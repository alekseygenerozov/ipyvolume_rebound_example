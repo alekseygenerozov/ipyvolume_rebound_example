{
 "cells": [
  {
   "cell_type": "code",
   "execution_count": 3,
   "metadata": {},
   "outputs": [
    {
     "name": "stdout",
     "output_type": "stream",
     "text": [
      "Populating the interactive namespace from numpy and matplotlib\n"
     ]
    },
    {
     "data": {
      "application/vnd.jupyter.widget-view+json": {
       "model_id": "36f2fbda410c44ce9125bcfeeaf9b961",
       "version_major": 2,
       "version_minor": 0
      },
      "text/plain": [
       "VBox(children=(Figure(camera=PerspectiveCamera(fov=46.0, position=(0.0, -2.0, 1.2246467991473532e-16), quatern…"
      ]
     },
     "metadata": {},
     "output_type": "display_data"
    }
   ],
   "source": [
    "import ipyvolume as ipv\n",
    "import ipyvolume.pylab as p3\n",
    "import numpy as np\n",
    "%pylab inline\n",
    "import rebound\n",
    "\n",
    "p3.clear()\n",
    "##Have to specifiy the location here\n",
    "loc='./'\n",
    "x=np.load(loc+'x.npz')\n",
    "y=np.load(loc+'y.npz')\n",
    "z=np.load(loc+'z.npz')\n",
    "##Scatter plot showing the initial conditions\n",
    "s=p3.scatter(x['arr_0'][0].flatten(), y['arr_0'][0].flatten(), z['arr_0'][0].flatten(), color='blue', size=0.3)\n",
    "s2=p3.plot(x['arr_0'], y['arr_0'], z['arr_0'], color='red', size=0.3, alpha='0.5')\n",
    "##Set the range on the axes\n",
    "ipv.pylab.xlim(-1,1)\n",
    "ipv.pylab.ylim(-1,1)\n",
    "ipv.pylab.zlim(-1,1)\n",
    "##Set the viewing angle \n",
    "ipv.pylab.view(azimuth=None, elevation=-90, distance=2)\n",
    "\n",
    "p3.show()\n",
    "##Make it a movie!!\n",
    "ipv.animation_control(s2)"
   ]
  },
  {
   "cell_type": "code",
   "execution_count": null,
   "metadata": {},
   "outputs": [],
   "source": []
  }
 ],
 "metadata": {
  "kernelspec": {
   "display_name": "Python 3",
   "language": "python",
   "name": "python3"
  },
  "language_info": {
   "codemirror_mode": {
    "name": "ipython",
    "version": 3
   },
   "file_extension": ".py",
   "mimetype": "text/x-python",
   "name": "python",
   "nbconvert_exporter": "python",
   "pygments_lexer": "ipython3",
   "version": "3.7.3"
  }
 },
 "nbformat": 4,
 "nbformat_minor": 2
}
